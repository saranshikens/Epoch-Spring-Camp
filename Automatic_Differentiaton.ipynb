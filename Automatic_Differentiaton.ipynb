{
  "nbformat": 4,
  "nbformat_minor": 0,
  "metadata": {
    "colab": {
      "provenance": [],
      "authorship_tag": "ABX9TyO0ZZeHxeApCDnNXVU7HOFA",
      "include_colab_link": true
    },
    "kernelspec": {
      "name": "python3",
      "display_name": "Python 3"
    },
    "language_info": {
      "name": "python"
    }
  },
  "cells": [
    {
      "cell_type": "markdown",
      "metadata": {
        "id": "view-in-github",
        "colab_type": "text"
      },
      "source": [
        "<a href=\"https://colab.research.google.com/github/saranshikens/Epoch-Spring-Camp/blob/main/Automatic_Differentiaton.ipynb\" target=\"_parent\"><img src=\"https://colab.research.google.com/assets/colab-badge.svg\" alt=\"Open In Colab\"/></a>"
      ]
    },
    {
      "cell_type": "markdown",
      "source": [
        "**TASK-2 IMPLEMENTATION OF AUTOMATIC DIFFERENTIATION**  \n",
        "By - Saransh"
      ],
      "metadata": {
        "id": "4k93ZJqvIsw0"
      }
    },
    {
      "cell_type": "code",
      "execution_count": null,
      "metadata": {
        "id": "pEz2v7BOA80e"
      },
      "outputs": [],
      "source": [
        "import numpy as np"
      ]
    },
    {
      "cell_type": "markdown",
      "source": [
        "Definition of a Node Class, that will serve as nodes in the Computational Graph  \n"
      ],
      "metadata": {
        "id": "RSNMRPCmI6pu"
      }
    },
    {
      "cell_type": "code",
      "source": [
        "class Node:\n",
        "    def __init__(self, val, children=[], op=None, op_args=None):\n",
        "        self.val = np.array(val)\n",
        "        self.children = list(children)\n",
        "        self.op = op\n",
        "        self.op_args = op_args\n",
        "        self.grad = 0\n",
        "\n",
        "    def add(self, arg):\n",
        "        if not isinstance(arg, Node): #Let's say our function is f(x,y,z) = x+2y+z. The constant 2 is not a node by default, so we convert it to one.\n",
        "            arg = Node(arg)\n",
        "        return Node(self.val+arg.val, children = [self, arg], op = \"add\")\n",
        "\n",
        "    def sub(self, arg):\n",
        "        if not isinstance(arg, Node):\n",
        "            arg = Node(arg)\n",
        "        return Node(self.val-arg.val, children = [self, arg], op = \"sub\")\n",
        "\n",
        "    def mul(self, arg):\n",
        "        if not isinstance(arg, Node):\n",
        "            arg = Node(arg)\n",
        "        return Node(self.val*arg.val, children = [self, arg], op = \"mul\")\n",
        "\n",
        "    def div(self, arg):\n",
        "        if not isinstance(arg, Node):\n",
        "            arg = Node(arg)\n",
        "        return Node(self.val/arg.val, children = [self, arg], op = \"div\")\n",
        "\n",
        "    def pow(self, arg):\n",
        "        if not isinstance(arg, Node):\n",
        "            arg = Node(arg)\n",
        "        return Node(self.val**arg.val, children = [self, arg], op = \"pow\")\n",
        "\n",
        "    def backward(self, grad=1.0):\n",
        "        self.grad += grad\n",
        "\n",
        "        if self.op == \"add\":\n",
        "           self.children[0].backward(grad)\n",
        "           self.children[1].backward(grad)\n",
        "\n",
        "        elif self.op == \"sub\":\n",
        "             self.children[0].backward(grad)\n",
        "             self.children[1].backward(-grad)\n",
        "\n",
        "        elif self.op == \"mul\":\n",
        "             self.children[0].backward(self.children[1].val*grad)\n",
        "             self.children[1].backward(self.children[0].val*grad)\n",
        "\n",
        "        elif self.op == \"div\":\n",
        "             self.children[0].backward((1/self.children[1].val)*grad)\n",
        "             self.children[1].backward(-(self.children[0].val/(self.children[1].val**2))*grad)\n",
        "\n",
        "        elif self.op == \"pow\":\n",
        "             self.children[0].backward(self.children[1].val*(self.children[0].val**(self.children[1].val-1))*grad)\n",
        "             self.children[1].backward(self.children[0].val**self.children[1].val*np.log(self.children[0].val)*grad)\n"
      ],
      "metadata": {
        "id": "k8_KCHCvBI4o"
      },
      "execution_count": null,
      "outputs": []
    },
    {
      "cell_type": "markdown",
      "source": [
        "**EXPLANATION OF backward() METHOD**  \n",
        "children[0] refers to 'x', whereas children[1] refers to 'y'.\n",
        "\n",
        "1. op == \"add\"  \n",
        "   Let $f(x,y) = 2x+3y$. Then,  \n",
        "   $\\frac{\\partial z}{\\partial x} = 2$, and $\\frac{\\partial z}{\\partial y} = 3$.  \n",
        "   As we can see, both children[0] and children[1] receive +grad, since both partial derivatives are positive.  \n",
        "2. op == \"sub\"  \n",
        "   Let $f(x,y) = 2x-3y$. Then,  \n",
        "   $\\frac{\\partial z}{\\partial x} = 2$, and $\\frac{\\partial z}{\\partial y} = -3$.  \n",
        "   Since $\\frac{\\partial z}{\\partial x} > 0$ and $\\frac{\\partial z}{\\partial x} < 0$, children[0] receives +grad, and children[1] receieves -grad.  \n",
        "3. op == \"mul\"  \n",
        "   Let $f(x,y) = z = xy$. Then,  \n",
        "   $\\frac{\\partial z}{\\partial x} = y$, and $\\frac{\\partial z}{\\partial y} = x$.  \n",
        "   As we can see, children[0] contributes children[1] to the grad, and vice-versa.  \n",
        "4. op == \"div\"  \n",
        "   Let $f(x,y) = z = \\frac{x}{y}$. Then,  \n",
        "   $\\frac{\\partial z}{\\partial x} = \\frac{1}{y}$, and $\\frac{\\partial z}{\\partial y} = \\frac{-x}{y^2}$.  \n",
        "   So, children[0] contributes $\\frac{1}{children[1]}$, and children[1] contributes $\\frac{-children[0]}{children[1]^2}$ to the grad.  \n",
        "5. op == \"pow\"  \n",
        "   Let $f(x,y) = z = x^y$. Then,  \n",
        "   $\\frac{\\partial z}{\\partial x} = yx^{y-1}$, and $\\frac{\\partial z}{\\partial y} = x^yln(x) = zln(x)$.  \n",
        "   So, children[0] contributes $(children[1])(children[0]^{children[1]-1})$, and children[1] contributes $children[0]^{children[1]}ln(children[0])$ to the grad.  \n",
        "\n"
      ],
      "metadata": {
        "id": "bEtIAaFteNN1"
      }
    },
    {
      "cell_type": "markdown",
      "source": [
        "**EXAMPLE INPUT FOR ARITHMETIC METHODS**"
      ],
      "metadata": {
        "id": "nKH77ZIlKUKi"
      }
    },
    {
      "cell_type": "code",
      "source": [
        "x = Node(1)\n",
        "y = Node(2)\n",
        "z = Node(3)\n",
        "b = Node.add(x, y)\n",
        "a = Node.mul(b, z)\n",
        "print(a.val)"
      ],
      "metadata": {
        "colab": {
          "base_uri": "https://localhost:8080/"
        },
        "id": "ZxBZaUPDENvS",
        "outputId": "d7bbf4a5-1839-415e-9a3b-84fde3ac2287"
      },
      "execution_count": null,
      "outputs": [
        {
          "output_type": "stream",
          "name": "stdout",
          "text": [
            "9\n"
          ]
        }
      ]
    },
    {
      "cell_type": "markdown",
      "source": [
        "**EXAMPLE INPUT FOR AUTOMATIC DIFFERENTIATION**"
      ],
      "metadata": {
        "id": "9LOsEV3ib4jk"
      }
    },
    {
      "cell_type": "code",
      "source": [
        "A = Node(1)\n",
        "B = Node(2)\n",
        "temp = Node.add(A, A)\n",
        "C = Node.add(Node.mul(A, 2), B)\n",
        "D = Node.pow(C, 3)\n",
        "D.backward()\n",
        "print(f'Gradient of D wrt A: {A.grad}')\n",
        "print(f'Gradient of D wrt B: {B.grad}')\n",
        "print(f'Gradient of D wrt C: {C.grad}')"
      ],
      "metadata": {
        "colab": {
          "base_uri": "https://localhost:8080/"
        },
        "id": "xAjia2vhb9vq",
        "outputId": "ccb46f5e-76ad-4148-efa6-6b3977962f39"
      },
      "execution_count": null,
      "outputs": [
        {
          "output_type": "stream",
          "name": "stdout",
          "text": [
            "Gradient of D wrt A: 96.0\n",
            "Gradient of D wrt B: 48.0\n",
            "Gradient of D wrt C: 48.0\n"
          ]
        }
      ]
    }
  ]
}