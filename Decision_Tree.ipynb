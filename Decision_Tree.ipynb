{
  "nbformat": 4,
  "nbformat_minor": 0,
  "metadata": {
    "colab": {
      "provenance": [],
      "authorship_tag": "ABX9TyPtKXJjch41fUIGtTMaZyJh",
      "include_colab_link": true
    },
    "kernelspec": {
      "name": "python3",
      "display_name": "Python 3"
    },
    "language_info": {
      "name": "python"
    }
  },
  "cells": [
    {
      "cell_type": "markdown",
      "metadata": {
        "id": "view-in-github",
        "colab_type": "text"
      },
      "source": [
        "<a href=\"https://colab.research.google.com/github/saranshikens/Epoch-Spring-Camp/blob/main/Decision_Tree.ipynb\" target=\"_parent\"><img src=\"https://colab.research.google.com/assets/colab-badge.svg\" alt=\"Open In Colab\"/></a>"
      ]
    },
    {
      "cell_type": "markdown",
      "source": [
        "**IMPLEMENTING DECISION TREE FROM SCRATCH**  \n",
        "By - Saransh"
      ],
      "metadata": {
        "id": "VaF_lcEcoyQ6"
      }
    },
    {
      "cell_type": "code",
      "execution_count": null,
      "metadata": {
        "id": "Oi71IVOqoxRX"
      },
      "outputs": [],
      "source": [
        "import numpy as np\n",
        "from collections import Counter\n",
        "import matplotlib.pyplot as plt"
      ]
    },
    {
      "cell_type": "code",
      "source": [
        "data = [\n",
        "    [12.0, 1.5, 1, 'Wine'],\n",
        "    [5.0, 2.0, 0, 'Beer'],\n",
        "    [40.0, 0.0, 1, 'Whiskey'],\n",
        "    [13.5, 1.2, 1, 'Wine'],\n",
        "    [4.5, 1.8, 0, 'Beer'],\n",
        "    [38.0, 0.1, 1, 'Whiskey'],\n",
        "    [11.5, 1.7, 1, 'Wine'],\n",
        "    [5.5, 2.3, 0, 'Beer']\n",
        "]"
      ],
      "metadata": {
        "id": "SyNDS1mipJLB"
      },
      "execution_count": null,
      "outputs": []
    },
    {
      "cell_type": "markdown",
      "source": [
        "**ENCODING THE LABELS**"
      ],
      "metadata": {
        "id": "GztrkibAeWB2"
      }
    },
    {
      "cell_type": "code",
      "source": [
        "encoded_data = [row[:] for row in data] # Create a copy of data. Encoding will be done with this list, so that 'data' remains preserved.\n",
        "for row in encoded_data:\n",
        "  if(row[3]=='Wine'): row[3]=0\n",
        "  elif(row[3]=='Beer'): row[3]=1\n",
        "  else: row[3]=2"
      ],
      "metadata": {
        "id": "wvACmapnpWh1"
      },
      "execution_count": null,
      "outputs": []
    },
    {
      "cell_type": "markdown",
      "source": [
        "**CREATING THE FEATURE MATRIX AND LABEL VECTOR**"
      ],
      "metadata": {
        "id": "F9iy4Ou4eaI7"
      }
    },
    {
      "cell_type": "code",
      "source": [
        "features = [column[:3] for column in encoded_data] # Extract first three columns from 'encoded_data' and store them as a matrix i.e. a nested list\n",
        "X = np.array(features)\n",
        "label = [column[3] for column in encoded_data] # Extract the fourth column from 'encoded_data'\n",
        "y = np.array(label)"
      ],
      "metadata": {
        "id": "4KO70B5ipbrq"
      },
      "execution_count": null,
      "outputs": []
    },
    {
      "cell_type": "markdown",
      "source": [
        "**GINI IMPURITY**  \n",
        "Calculating Gini Impurity for a particular Attribute with a predecided threshold.  \n",
        "From here on,  \n",
        "attributeID = $\\begin{cases}\n",
        " 0, \\text{ iff attribute = Alcohol Content}\\\\\n",
        " 1, \\text{ iff attribute = Sugar Content}\\\\\n",
        " 2, \\text{ iff atttribute = Color}\n",
        "\\end{cases}$\n"
      ],
      "metadata": {
        "id": "AreY4lmLSCL8"
      }
    },
    {
      "cell_type": "code",
      "source": [
        "def GiniImpurity(attributeID, threshold):\n",
        "  leftCnt = rightCnt = 0;\n",
        "  for i in range(len(X)):\n",
        "    if(X[i][attributeID] <= threshold): leftCnt+=1\n",
        "    else: rightCnt+=1\n",
        "  gini = 1 - (leftCnt/len(X))**2 - (rightCnt/len(X))**2\n",
        "  return gini"
      ],
      "metadata": {
        "id": "-vJDcOnbpp_P"
      },
      "execution_count": null,
      "outputs": []
    },
    {
      "cell_type": "markdown",
      "source": [
        "Determining the most optimal label (and threshold) for the root node."
      ],
      "metadata": {
        "id": "JfryHuMITYws"
      }
    },
    {
      "cell_type": "code",
      "source": [
        "def LeastGiniImpurity(X, y):\n",
        "  minGini = 2 # Gini impurity lies between 0 and 1, hence this initialization of minGini\n",
        "  for attribute in range(len(X[0])):\n",
        "    for threshold in range(len(X)):\n",
        "      if(GiniImpurity(attribute, threshold) < minGini):\n",
        "        minGini = GiniImpurity(attribute, threshold)\n",
        "        minGiniAttribute = attribute\n",
        "        minGiniThreshold = X[threshold][attribute]\n",
        "  result = []\n",
        "  result.append(minGiniAttribute)\n",
        "  result.append(minGiniThreshold)\n",
        "  return result"
      ],
      "metadata": {
        "id": "SgCgNqMJJu2z"
      },
      "execution_count": null,
      "outputs": []
    },
    {
      "cell_type": "markdown",
      "source": [
        "**ENTROPY**  \n",
        "An alternative to Gini Impurity to compute Impurity"
      ],
      "metadata": {
        "id": "Z65jfVT45GHV"
      }
    },
    {
      "cell_type": "code",
      "source": [
        "def entropy(attributeID, threshold):\n",
        "  leftCnt = rightCnt = 0;\n",
        "  for i in range(len(X)):\n",
        "    if(X[i][attributeID] <= threshold): leftCnt+=1\n",
        "    else: rightCnt+=1\n",
        "  leftProb = leftCnt/len(X)\n",
        "  rightProb = rightCnt/len(X)\n",
        "  entropy = -1 * (leftProb * np.log2(leftProb) + rightProb * np.log2(rightProb))\n",
        "  return entropy"
      ],
      "metadata": {
        "id": "BAqOUCoT5Kwm"
      },
      "execution_count": null,
      "outputs": []
    },
    {
      "cell_type": "markdown",
      "source": [
        "Determining the most optimal label (and threshold) for the root node."
      ],
      "metadata": {
        "id": "4uA9-jqc5nOI"
      }
    },
    {
      "cell_type": "code",
      "source": [
        "def LeastEntropy(X, y):\n",
        "  minEntropy = 2 # Entropy lies between 0 and 1, hence this initialization of minEntropy\n",
        "  for attribute in range(len(X[0])):\n",
        "    for threshold in range(len(X)):\n",
        "      if(entropy(attribute, threshold) < minEntropy):\n",
        "        minEntropy = entropy(attribute, threshold)\n",
        "        minEntropyAttribute = attribute\n",
        "        minEntropyThreshold = X[threshold][attribute]\n",
        "  result = []\n",
        "  result.append(minEntropyAttribute)\n",
        "  result.append(minEntropyThreshold)\n",
        "  return result"
      ],
      "metadata": {
        "id": "7HaHZ1MO5u6_"
      },
      "execution_count": null,
      "outputs": []
    },
    {
      "cell_type": "markdown",
      "source": [
        "Determining the entry under an attribute, with max occurence"
      ],
      "metadata": {
        "id": "3-8DETuwfKeR"
      }
    },
    {
      "cell_type": "code",
      "source": [
        "def majority_class(attributes): # I ChatGPT'ed this thing\n",
        "  return Counter(attributes).most_common(1)[0][0]"
      ],
      "metadata": {
        "id": "36xRKIGndFQT"
      },
      "execution_count": null,
      "outputs": []
    },
    {
      "cell_type": "markdown",
      "source": [
        "**RECURSIVE TREE BUILDING**"
      ],
      "metadata": {
        "id": "XgKS4IpVfmH1"
      }
    },
    {
      "cell_type": "code",
      "source": [
        "class Node:\n",
        "  def __init__(self, feature_index=None, threshold=None, left=None, right=None, value=None):\n",
        "    self.feature_index = feature_index\n",
        "    self.threshold = threshold\n",
        "    self.left = left\n",
        "    self.right = right\n",
        "    self.value = value\n",
        "\n",
        "  def buildTree(X, y, depth=0, maxDepth=5):\n",
        "    if(len(set(y))==1 or depth >= maxDepth):\n",
        "      leaf = majority_class(y) if len(y)>0 else None\n",
        "      return Node(value=leaf)\n",
        "\n",
        "    attributeID, threshold = LeastEntropy(X, y) # We can hard-code the impurity measure type here.\n",
        "\n",
        "    leftIDs = [i for i in range(len(X)) if X[i][attributeID] <= threshold]\n",
        "    rightIDs = [i for i in range(len(X)) if X[i][attributeID] > threshold]\n",
        "\n",
        "    # Splitting X and y for left and right nodes\n",
        "    left = Node.buildTree(X[leftIDs], y[leftIDs], depth+1, maxDepth) if len(leftIDs) > 0 else None\n",
        "    right = Node.buildTree(X[rightIDs], y[rightIDs], depth+1, maxDepth) if len(rightIDs) > 0 else None\n",
        "\n",
        "    return Node(attributeID, threshold, left, right)\n",
        "\n",
        "  def predict_one(self, x):\n",
        "    if self.value is not None:\n",
        "        return self.value\n",
        "    if x[self.feature_index] <= self.threshold:\n",
        "        return self.left.predict_one(x)\n",
        "    else:\n",
        "        return self.right.predict_one(x)\n",
        "\n",
        "  def predict(tree, X_test):\n",
        "    return [tree.predict_one(x) for x in X_test]\n"
      ],
      "metadata": {
        "id": "-AJn_2t6XTFG"
      },
      "execution_count": null,
      "outputs": []
    },
    {
      "cell_type": "markdown",
      "source": [
        "**TESTING**"
      ],
      "metadata": {
        "id": "5MWqMFORfx_3"
      }
    },
    {
      "cell_type": "code",
      "source": [
        "test_data = np.array([\n",
        "    [6.0, 2.1, 0],   # Expected: Beer\n",
        "    [39.0, 0.05, 1], # Expected: Whiskey\n",
        "    [13.0, 1.3, 1]   # Expected: Wine\n",
        "])\n"
      ],
      "metadata": {
        "id": "stUTr9vCgj_6"
      },
      "execution_count": null,
      "outputs": []
    },
    {
      "cell_type": "code",
      "source": [
        "tree = Node.buildTree(X, y)\n",
        "predictions = Node.predict(tree, test_data)\n",
        "for i in range(len(predictions)):\n",
        "  if(predictions[i]==0): predictions[i]='Wine'\n",
        "  elif (predictions[i]==1): predictions[i]='Beer'\n",
        "  else: predictions[i]='Whiskey'\n",
        "print(predictions)"
      ],
      "metadata": {
        "colab": {
          "base_uri": "https://localhost:8080/"
        },
        "id": "7fvCBEZEZhMK",
        "outputId": "df8000fb-9421-4d83-b8d2-9c5f31c9da49"
      },
      "execution_count": null,
      "outputs": [
        {
          "output_type": "stream",
          "name": "stdout",
          "text": [
            "['Beer', 'Wine', 'Wine']\n"
          ]
        },
        {
          "output_type": "stream",
          "name": "stderr",
          "text": [
            "<ipython-input-45-01ad8639fa17>:8: RuntimeWarning: divide by zero encountered in log2\n",
            "  entropy = -1 * (leftProb * np.log2(leftProb) + rightProb * np.log2(rightProb))\n",
            "<ipython-input-45-01ad8639fa17>:8: RuntimeWarning: invalid value encountered in scalar multiply\n",
            "  entropy = -1 * (leftProb * np.log2(leftProb) + rightProb * np.log2(rightProb))\n"
          ]
        }
      ]
    }
  ]
}